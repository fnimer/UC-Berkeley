{
  "nbformat": 4,
  "nbformat_minor": 0,
  "metadata": {
    "colab": {
      "provenance": [],
      "authorship_tag": "ABX9TyPtjrxVmTkHaDU9q2yLVVYF",
      "include_colab_link": true
    },
    "kernelspec": {
      "name": "python3",
      "display_name": "Python 3"
    },
    "language_info": {
      "name": "python"
    }
  },
  "cells": [
    {
      "cell_type": "markdown",
      "metadata": {
        "id": "view-in-github",
        "colab_type": "text"
      },
      "source": [
        "<a href=\"https://colab.research.google.com/github/fnimer/UC-Berkeley/blob/main/Module_1_Mini_Lesson_1_3.ipynb\" target=\"_parent\"><img src=\"https://colab.research.google.com/assets/colab-badge.svg\" alt=\"Open In Colab\"/></a>"
      ]
    },
    {
      "cell_type": "code",
      "execution_count": null,
      "metadata": {
        "id": "C4I0LGLwvtHv"
      },
      "outputs": [],
      "source": [
        "import pandas as pd"
      ]
    },
    {
      "cell_type": "code",
      "source": [
        "DataFrame1 = pd.read_excel(’relative_path/SampleFile.xlsx’) (download the file here, or use a file of your own)\n"
      ],
      "metadata": {
        "id": "FgHDz1aVv4dN"
      },
      "execution_count": null,
      "outputs": []
    },
    {
      "cell_type": "code",
      "source": [
        "DataFrame1 = pd.read_excel(’SampleFile.xlsx’)\n"
      ],
      "metadata": {
        "id": "_-JKUnt5v5Ql"
      },
      "execution_count": null,
      "outputs": []
    },
    {
      "cell_type": "code",
      "source": [
        "print(DataFrame1)"
      ],
      "metadata": {
        "id": "2qUbsQT7v55t"
      },
      "execution_count": null,
      "outputs": []
    }
  ]
}